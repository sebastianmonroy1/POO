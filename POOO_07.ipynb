{
  "nbformat": 4,
  "nbformat_minor": 0,
  "metadata": {
    "colab": {
      "provenance": []
    },
    "kernelspec": {
      "name": "python3",
      "display_name": "Python 3"
    },
    "language_info": {
      "name": "python"
    }
  },
  "cells": [
    {
      "cell_type": "code",
      "execution_count": null,
      "metadata": {
        "colab": {
          "base_uri": "https://localhost:8080/"
        },
        "id": "y3uYNN2Ujj0C",
        "outputId": "b1556d27-b828-4d7e-a356-e4f093949a04"
      },
      "outputs": [
        {
          "name": "stdout",
          "output_type": "stream",
          "text": [
            "Escribe tu numero favorito64\n"
          ]
        }
      ],
      "source": [
        "numero = int(input(\"Escribe tu numero favorito \"))"
      ]
    },
    {
      "cell_type": "code",
      "source": [
        "if numero % 2 == 0 and numero % 4 !=0:\n",
        "  print (f\"{numero} es multiplo de dos\")\n",
        "elif numero % 4 == 0:\n",
        "    print (f\"{numero} es multiplo de cuatro y dos\")\n",
        "elif numero % 5 == 0:\n",
        "    print (f\"{numero} es multiplo de 5\")\n",
        "else:\n",
        "      print (f\"{numero} no es multiplo de dos ni cinco\")\n",
        "\n"
      ],
      "metadata": {
        "colab": {
          "base_uri": "https://localhost:8080/"
        },
        "id": "SkPW2SlmkBHe",
        "outputId": "29c16258-dd23-49c8-874d-312315c1b1de"
      },
      "execution_count": null,
      "outputs": [
        {
          "output_type": "stream",
          "name": "stdout",
          "text": [
            "64 es multiplo de cuatro y dos\n"
          ]
        }
      ]
    },
    {
      "cell_type": "code",
      "source": [],
      "metadata": {
        "id": "pmtPYi6WmGxj"
      },
      "execution_count": null,
      "outputs": []
    }
  ]
}