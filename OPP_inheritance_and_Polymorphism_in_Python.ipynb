{
  "nbformat": 4,
  "nbformat_minor": 0,
  "metadata": {
    "colab": {
      "provenance": [],
      "toc_visible": true
    },
    "kernelspec": {
      "name": "python3",
      "display_name": "Python 3"
    },
    "language_info": {
      "name": "python"
    }
  },
  "cells": [
    {
      "cell_type": "code",
      "execution_count": 11,
      "metadata": {
        "id": "VGv-_Rmdrkzh"
      },
      "outputs": [],
      "source": [
        "class Animal():\n",
        "\n",
        "\n",
        "    def __init__(self):\n",
        "      print(\"Animal class creada\")\n",
        "\n",
        "    def guess_who(self):\n",
        "      print(\"Soy un animal\")\n",
        "\n",
        "    def sleep(self):\n",
        "      print(\"Estoy durmiendo\")\n",
        "\n",
        ""
      ]
    },
    {
      "cell_type": "code",
      "source": [
        "my_animal = Animal()"
      ],
      "metadata": {
        "colab": {
          "base_uri": "https://localhost:8080/"
        },
        "id": "6W2U13rGsU4L",
        "outputId": "3d162b01-d53c-4cf3-9867-bd51255f481e"
      },
      "execution_count": 14,
      "outputs": [
        {
          "output_type": "stream",
          "name": "stdout",
          "text": [
            "Animal class creada\n"
          ]
        }
      ]
    },
    {
      "cell_type": "code",
      "source": [
        "my_animal.sleep()"
      ],
      "metadata": {
        "colab": {
          "base_uri": "https://localhost:8080/"
        },
        "id": "UVtPziH8s69d",
        "outputId": "f6cf213a-97dc-46a4-d390-caa5f5b8eba4"
      },
      "execution_count": 15,
      "outputs": [
        {
          "output_type": "stream",
          "name": "stdout",
          "text": [
            "Estoy durmiendo\n"
          ]
        }
      ]
    },
    {
      "cell_type": "code",
      "source": [
        "class Cat(Animal):\n",
        "\n",
        "  def __init__(self):\n",
        "    Animal.__init__(self)\n",
        "    print(\"Cat class creada\")\n",
        "\n",
        "  def guess_who(self):\n",
        "    print(\"Soy un gato\")\n",
        "\n",
        "  def meow (self):\n",
        "    print (\"MEOWW!\")\n"
      ],
      "metadata": {
        "id": "5e0uvlr7tz22"
      },
      "execution_count": 30,
      "outputs": []
    },
    {
      "cell_type": "code",
      "source": [
        "my_cat = Cat ()"
      ],
      "metadata": {
        "colab": {
          "base_uri": "https://localhost:8080/"
        },
        "id": "gAYVBWlKwwXa",
        "outputId": "ee8ca0d2-b335-4c67-870a-b89ddf8e338b"
      },
      "execution_count": 31,
      "outputs": [
        {
          "output_type": "stream",
          "name": "stdout",
          "text": [
            "Animal class creada\n",
            "Cat class creada\n"
          ]
        }
      ]
    },
    {
      "cell_type": "code",
      "source": [
        "my_cat.guess_who()"
      ],
      "metadata": {
        "colab": {
          "base_uri": "https://localhost:8080/"
        },
        "id": "ymRzoJsTw3DH",
        "outputId": "adf25bc0-8a68-4c73-b247-ca7e075cbbc5"
      },
      "execution_count": 32,
      "outputs": [
        {
          "output_type": "stream",
          "name": "stdout",
          "text": [
            "Soy un gato\n"
          ]
        }
      ]
    },
    {
      "cell_type": "code",
      "source": [
        "my_cat.meow()"
      ],
      "metadata": {
        "colab": {
          "base_uri": "https://localhost:8080/"
        },
        "id": "SgcKICDzw_eb",
        "outputId": "3cc900bb-daad-4854-d35f-a867872f1ea3"
      },
      "execution_count": 33,
      "outputs": [
        {
          "output_type": "stream",
          "name": "stdout",
          "text": [
            "MEOWW!\n"
          ]
        }
      ]
    },
    {
      "cell_type": "code",
      "source": [
        "class Doggy():\n",
        "\n",
        "  def __init__(self,name, raza):\n",
        "    self.name = name\n",
        "    self.raza = raza\n",
        "\n",
        "\n",
        "  def speak (self):\n",
        "    return self.name + \"dice WOOF\""
      ],
      "metadata": {
        "id": "gU9QFeYNyuJR"
      },
      "execution_count": 34,
      "outputs": []
    },
    {
      "cell_type": "code",
      "source": [
        "class Catty():\n",
        "\n",
        "  def __init__(self,name, raza):\n",
        "    self.name = name\n",
        "    self.raza = raza\n",
        "\n",
        "\n",
        "  def speak (self):\n",
        "    return self.name + \"dice MEAW\""
      ],
      "metadata": {
        "id": "ToRc9juuzggt"
      },
      "execution_count": 38,
      "outputs": []
    },
    {
      "cell_type": "code",
      "source": [
        "my_dog = Doggy(\"Buzz\", \"Dalmata\")\n",
        "my_cat = Catty(\"Catty\", \"Persa\")\n"
      ],
      "metadata": {
        "id": "xuJIIKk8zJ4t"
      },
      "execution_count": 41,
      "outputs": []
    },
    {
      "cell_type": "code",
      "source": [
        "my_dog.speak()"
      ],
      "metadata": {
        "colab": {
          "base_uri": "https://localhost:8080/",
          "height": 42
        },
        "id": "Juq83TCpz7ls",
        "outputId": "f4ee7081-25f4-4f08-bd5c-dcfe863546aa"
      },
      "execution_count": 42,
      "outputs": [
        {
          "output_type": "execute_result",
          "data": {
            "text/plain": [
              "'Buzzdice WOOF'"
            ],
            "application/vnd.google.colaboratory.intrinsic+json": {
              "type": "string"
            }
          },
          "metadata": {},
          "execution_count": 42
        }
      ]
    },
    {
      "cell_type": "code",
      "source": [
        "my_cat.speak()"
      ],
      "metadata": {
        "colab": {
          "base_uri": "https://localhost:8080/",
          "height": 42
        },
        "id": "TDtGLZBaz_Cr",
        "outputId": "084aefbd-9ab8-4c67-8391-082913af2202"
      },
      "execution_count": 44,
      "outputs": [
        {
          "output_type": "execute_result",
          "data": {
            "text/plain": [
              "'Cattydice MEAW'"
            ],
            "application/vnd.google.colaboratory.intrinsic+json": {
              "type": "string"
            }
          },
          "metadata": {},
          "execution_count": 44
        }
      ]
    }
  ]
}