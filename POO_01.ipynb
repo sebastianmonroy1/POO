{
  "nbformat": 4,
  "nbformat_minor": 0,
  "metadata": {
    "colab": {
      "provenance": []
    },
    "kernelspec": {
      "name": "python3",
      "display_name": "Python 3"
    },
    "language_info": {
      "name": "python"
    }
  },
  "cells": [
    {
      "cell_type": "code",
      "execution_count": null,
      "metadata": {
        "id": "YA9t7pSzR_ig"
      },
      "outputs": [],
      "source": [
        "\n",
        "\n"
      ]
    },
    {
      "cell_type": "code",
      "source": [],
      "metadata": {
        "id": "QbXoF6T9T_qX"
      },
      "execution_count": null,
      "outputs": []
    },
    {
      "cell_type": "markdown",
      "source": [],
      "metadata": {
        "id": "LgtikLhEUrBF"
      }
    },
    {
      "cell_type": "markdown",
      "source": [
        "# Introducció a objetos\n",
        "## Primeros objetos\n",
        "\n",
        "\n",
        "\n"
      ],
      "metadata": {
        "id": "5sayV9gITBoU"
      }
    },
    {
      "cell_type": "markdown",
      "source": [
        "La funcion que identifica el tipo de objeto es la funcion `type`"
      ],
      "metadata": {
        "id": "K_epilTfTAml"
      }
    },
    {
      "cell_type": "code",
      "source": [
        "num=5\n",
        "\n",
        "saludo = \"Hola mundo!\""
      ],
      "metadata": {
        "id": "lnzYEPqVVyF1"
      },
      "execution_count": 3,
      "outputs": []
    },
    {
      "cell_type": "code",
      "source": [
        "print(num)"
      ],
      "metadata": {
        "colab": {
          "base_uri": "https://localhost:8080/"
        },
        "id": "90lSH-i6WPJa",
        "outputId": "797551da-418c-4af9-b3c5-c9ecb630dd6d"
      },
      "execution_count": 4,
      "outputs": [
        {
          "output_type": "stream",
          "name": "stdout",
          "text": [
            "5\n"
          ]
        }
      ]
    },
    {
      "cell_type": "code",
      "source": [
        "print(saludo)"
      ],
      "metadata": {
        "colab": {
          "base_uri": "https://localhost:8080/"
        },
        "id": "42DFD1FfWw5l",
        "outputId": "0bf11d72-582a-4395-9d39-1c3e7f0cedb4"
      },
      "execution_count": 5,
      "outputs": [
        {
          "output_type": "stream",
          "name": "stdout",
          "text": [
            "Hola mundo!\n"
          ]
        }
      ]
    },
    {
      "cell_type": "code",
      "source": [
        "type(num)"
      ],
      "metadata": {
        "colab": {
          "base_uri": "https://localhost:8080/"
        },
        "id": "K8LCZYhOW7uC",
        "outputId": "73bbf25a-cf03-41f2-abba-bbc97af40a69"
      },
      "execution_count": 6,
      "outputs": [
        {
          "output_type": "execute_result",
          "data": {
            "text/plain": [
              "int"
            ]
          },
          "metadata": {},
          "execution_count": 6
        }
      ]
    },
    {
      "cell_type": "code",
      "source": [
        "type(saludo)"
      ],
      "metadata": {
        "colab": {
          "base_uri": "https://localhost:8080/"
        },
        "id": "ZLtVS_qGXSDR",
        "outputId": "0d907733-c53e-448f-e487-5032eeafd7c3"
      },
      "execution_count": 7,
      "outputs": [
        {
          "output_type": "execute_result",
          "data": {
            "text/plain": [
              "str"
            ]
          },
          "metadata": {},
          "execution_count": 7
        }
      ]
    },
    {
      "cell_type": "code",
      "source": [
        "# El siguiente codigo verifica si num y saludo son objetos diferentes o iguales.\n",
        "# El resultado arroja un valor booleano.\n",
        "\n",
        "\n",
        "type(num)==type(saludo)"
      ],
      "metadata": {
        "colab": {
          "base_uri": "https://localhost:8080/"
        },
        "id": "_QYM8bK5XnP0",
        "outputId": "7924954d-4a7d-4e06-c6ba-eb50038207b5"
      },
      "execution_count": 8,
      "outputs": [
        {
          "output_type": "execute_result",
          "data": {
            "text/plain": [
              "False"
            ]
          },
          "metadata": {},
          "execution_count": 8
        }
      ]
    },
    {
      "cell_type": "code",
      "source": [
        "float(num)"
      ],
      "metadata": {
        "colab": {
          "base_uri": "https://localhost:8080/"
        },
        "id": "O_YxNPT1YLow",
        "outputId": "d7141ccd-1d51-4391-ab9a-3990efe09748"
      },
      "execution_count": 9,
      "outputs": [
        {
          "output_type": "execute_result",
          "data": {
            "text/plain": [
              "5.0"
            ]
          },
          "metadata": {},
          "execution_count": 9
        }
      ]
    },
    {
      "cell_type": "code",
      "source": [
        "num_s = str(num)"
      ],
      "metadata": {
        "id": "ItAImFMeZauu"
      },
      "execution_count": 14,
      "outputs": []
    },
    {
      "cell_type": "code",
      "source": [
        "type(num_s)==type(saludo)"
      ],
      "metadata": {
        "colab": {
          "base_uri": "https://localhost:8080/"
        },
        "id": "bZUN-nrpaKBp",
        "outputId": "350b6eb0-7799-4f02-f5d2-5dfaf876c6c4"
      },
      "execution_count": 18,
      "outputs": [
        {
          "output_type": "execute_result",
          "data": {
            "text/plain": [
              "True"
            ]
          },
          "metadata": {},
          "execution_count": 18
        }
      ]
    },
    {
      "cell_type": "code",
      "source": [
        "# Vamos a mostrar los elementos de range(10)\n",
        "\n",
        "for i in range(11):\n",
        "  print(i)"
      ],
      "metadata": {
        "colab": {
          "base_uri": "https://localhost:8080/"
        },
        "id": "7n6OUqNga_Kr",
        "outputId": "8febeeae-7b9b-4b65-ddf2-d4226fa1d12d"
      },
      "execution_count": 21,
      "outputs": [
        {
          "output_type": "stream",
          "name": "stdout",
          "text": [
            "0\n",
            "1\n",
            "2\n",
            "3\n",
            "4\n",
            "5\n",
            "6\n",
            "7\n",
            "8\n",
            "9\n",
            "10\n"
          ]
        }
      ]
    },
    {
      "cell_type": "markdown",
      "source": [
        "Listas:\n",
        "\n",
        "var = []"
      ],
      "metadata": {
        "id": "5uzGEg29dgAe"
      }
    },
    {
      "cell_type": "code",
      "source": [
        "lista_1 = [1, \"1\" , 1.0, [2,3]]"
      ],
      "metadata": {
        "id": "Arun8BKVdmWW"
      },
      "execution_count": 22,
      "outputs": []
    },
    {
      "cell_type": "code",
      "source": [
        "type(lista_1)"
      ],
      "metadata": {
        "colab": {
          "base_uri": "https://localhost:8080/"
        },
        "id": "mSX8pZxQbCMM",
        "outputId": "56ea815b-9999-4f1c-8118-943e05ff2782"
      },
      "execution_count": 23,
      "outputs": [
        {
          "output_type": "execute_result",
          "data": {
            "text/plain": [
              "list"
            ]
          },
          "metadata": {},
          "execution_count": 23
        }
      ]
    },
    {
      "cell_type": "code",
      "source": [
        "lista_2 = [x for x in range (11)]\n",
        "print(lista_2)"
      ],
      "metadata": {
        "colab": {
          "base_uri": "https://localhost:8080/"
        },
        "id": "rI0TZx5aehJ0",
        "outputId": "3861d6c4-65c1-46cb-c731-ae3ed30b0db5"
      },
      "execution_count": 25,
      "outputs": [
        {
          "output_type": "stream",
          "name": "stdout",
          "text": [
            "[0, 1, 2, 3, 4, 5, 6, 7, 8, 9, 10]\n"
          ]
        }
      ]
    }
  ]
}