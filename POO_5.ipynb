{
  "nbformat": 4,
  "nbformat_minor": 0,
  "metadata": {
    "colab": {
      "provenance": []
    },
    "kernelspec": {
      "name": "python3",
      "display_name": "Python 3"
    },
    "language_info": {
      "name": "python"
    }
  },
  "cells": [
    {
      "cell_type": "markdown",
      "source": [],
      "metadata": {
        "id": "pPhYEhDnkQ-z"
      }
    },
    {
      "cell_type": "markdown",
      "source": [
        "# Clases, herencias y polimorfismos"
      ],
      "metadata": {
        "id": "coDc0LK-kbvZ"
      }
    },
    {
      "cell_type": "code",
      "source": [
        "# Vamos a crear una definición (que es una función integrada en Pyton)\n",
        "\n",
        "def Monroy(a,b,c):\n",
        "  x = a + b*c\n",
        "  return x"
      ],
      "metadata": {
        "id": "9b1ECMXykjpQ"
      },
      "execution_count": null,
      "outputs": []
    },
    {
      "cell_type": "code",
      "source": [
        "# vamos a crear una definición que calculre la inversia de una matriz\n",
        "import numpy as np\n",
        "\n",
        "def inv_matrix(M):\n",
        "  x = np.linalg.inv(M)\n",
        "  return x"
      ],
      "metadata": {
        "id": "T_SzTkH9pcxb"
      },
      "execution_count": null,
      "outputs": []
    },
    {
      "cell_type": "code",
      "source": [
        "M = np.array([[1,2,3],\n",
        "             [2,3,4],\n",
        "             [5,6,7]])\n",
        "M"
      ],
      "metadata": {
        "colab": {
          "base_uri": "https://localhost:8080/"
        },
        "id": "97DH0UBEsqC5",
        "outputId": "5ed1daea-21af-468d-c12d-41beb0024a05"
      },
      "execution_count": null,
      "outputs": [
        {
          "output_type": "execute_result",
          "data": {
            "text/plain": [
              "array([[1, 2, 3],\n",
              "       [2, 3, 4],\n",
              "       [5, 6, 7]])"
            ]
          },
          "metadata": {},
          "execution_count": 4
        }
      ]
    },
    {
      "cell_type": "code",
      "source": [
        "inv_matrix(M)"
      ],
      "metadata": {
        "colab": {
          "base_uri": "https://localhost:8080/"
        },
        "id": "p8cdYj3ouCXu",
        "outputId": "fded1604-5af9-4df9-ce6d-e808083d4cc6"
      },
      "execution_count": null,
      "outputs": [
        {
          "output_type": "execute_result",
          "data": {
            "text/plain": [
              "array([[-1.68884986e+15,  2.25179981e+15, -5.62949953e+14],\n",
              "       [ 3.37769972e+15, -4.50359963e+15,  1.12589991e+15],\n",
              "       [-1.68884986e+15,  2.25179981e+15, -5.62949953e+14]])"
            ]
          },
          "metadata": {},
          "execution_count": 6
        }
      ]
    },
    {
      "cell_type": "code",
      "source": [],
      "metadata": {
        "id": "4BBgrW-FwGlF"
      },
      "execution_count": null,
      "outputs": []
    }
  ]
}