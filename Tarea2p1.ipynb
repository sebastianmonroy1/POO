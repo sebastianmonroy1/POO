{
  "nbformat": 4,
  "nbformat_minor": 0,
  "metadata": {
    "colab": {
      "provenance": []
    },
    "kernelspec": {
      "name": "python3",
      "display_name": "Python 3"
    },
    "language_info": {
      "name": "python"
    }
  },
  "cells": [
    {
      "cell_type": "code",
      "execution_count": 1,
      "metadata": {
        "id": "5e8Urv2Wqba3"
      },
      "outputs": [],
      "source": [
        "# Crea una clase que se llame Animal\n",
        "class Animal:\n",
        "    # Define un inicializador que contenga dos argumentos (a y b)\n",
        "    def __init__(self, a, b):\n",
        "        self.a = a\n",
        "        self.b = b\n",
        "\n",
        "# Crea una clase heredada que se llame Mascota\n",
        "class Mascota(Animal):\n",
        "    # Define el inicializador de Mascota que llama al de la superclase\n",
        "    def __init__(self, c, d):\n",
        "        super().__init__(\"c\", \"d\")\n",
        "\n",
        "    # Define tres métodos asociados a Mascota\n",
        "    def metodo1(self):\n",
        "        # Tu código para el método 1 va aquí\n",
        "        pass\n",
        "\n",
        "    def metodo2(self):\n",
        "        # Tu código para el método 2 va aquí\n",
        "        pass\n",
        "\n",
        "    def metodo3(self):\n",
        "        # Tu código para el método 3 va aquí\n",
        "        pass"
      ]
    },
    {
      "cell_type": "code",
      "source": [
        "# Crea dos clases que tengan asignados nombres de Países.\n",
        "class Pais1:\n",
        "    def __init__(self):\n",
        "        # Define al menos tres características del País\n",
        "        self.capital = \"Ciudad 1\"\n",
        "        self.idioma = \"Idioma 1\"\n",
        "        self.poblacion = 1000000  # Ejemplo de una tercera característica\n",
        "\n",
        "class Pais2:\n",
        "    def __init__(self):\n",
        "        # Define al menos tres características del País\n",
        "        self.capital = \"Ciudad 2\"\n",
        "        self.idioma = \"Idioma 2\"\n",
        "        self.extension_territorial = 200000  # Ejemplo de una tercera característica\n",
        "\n",
        "# Define dos variables que sean cursores\n",
        "var1 = Pais1()\n",
        "var2 = Pais2()\n",
        "\n",
        "# Accede a las características de los Países y muestra información\n",
        "for pais in (var1, var2):\n",
        "    # Imprime las características del País\n",
        "    print(f\"Capital: {pais.capital}\")\n",
        "    print(f\"Idioma: {pais.idioma}\")\n",
        "    # El tercer atributo se imprimirá solo si es relevante para el país\n",
        "    if hasattr(pais, 'poblacion'):\n",
        "        print(f\"Población: {pais.poblacion}\")\n",
        "    if hasattr(pais, 'extension_territorial'):\n",
        "        print(f\"Extensión territorial: {pais.extension_territorial}\")\n"
      ],
      "metadata": {
        "colab": {
          "base_uri": "https://localhost:8080/"
        },
        "id": "_0gSBGfjuC_s",
        "outputId": "ad14485e-5e63-4498-d656-91d252638833"
      },
      "execution_count": 2,
      "outputs": [
        {
          "output_type": "stream",
          "name": "stdout",
          "text": [
            "Capital: Ciudad 1\n",
            "Idioma: Idioma 1\n",
            "Población: 1000000\n",
            "Capital: Ciudad 2\n",
            "Idioma: Idioma 2\n",
            "Extensión territorial: 200000\n"
          ]
        }
      ]
    },
    {
      "cell_type": "code",
      "source": [
        "# Crea una clase madre que se llame Forma\n",
        "class Forma:\n",
        "    def calcular_area(self):\n",
        "        pass\n",
        "\n",
        "    def calcular_perimetro(self):\n",
        "        pass\n",
        "\n",
        "# Crea dos clases heredadas de la clase madre Forma\n",
        "class Circulo(Forma):\n",
        "    def __init__(self, radio):\n",
        "        self.radio = radio\n",
        "\n",
        "    def calcular_area(self):\n",
        "        # Área de un círculo: π * radio^2\n",
        "        return 3.14159 * self.radio ** 2\n",
        "\n",
        "    def calcular_perimetro(self):\n",
        "        # Perímetro de un círculo: 2 * π * radio\n",
        "        return 2 * 3.14159 * self.radio\n",
        "\n",
        "class Cuadrado(Forma):\n",
        "    def __init__(self, lado):\n",
        "        self.lado = lado\n",
        "\n",
        "    def calcular_area(self):\n",
        "        # Área de un cuadrado: lado^2\n",
        "        return self.lado ** 2\n",
        "\n",
        "    def calcular_perimetro(self):\n",
        "        # Perímetro de un cuadrado: 4 * lado\n",
        "        return 4 * self.lado\n",
        "\n",
        "# Crear instancias de las clases Circulo y Cuadrado\n",
        "circulo = Circulo(5)  # Un círculo con radio 5\n",
        "cuadrado = Cuadrado(4)  # Un cuadrado con lado 4\n",
        "\n",
        "# Calcular y mostrar el área y el perímetro de las formas\n",
        "print(\"Área del círculo:\", circulo.calcular_area())\n",
        "print(\"Perímetro del círculo:\", circulo.calcular_perimetro())\n",
        "\n",
        "print(\"Área del cuadrado:\", cuadrado.calcular_area())\n",
        "print(\"Perímetro del cuadrado:\", cuadrado.calcular_perimetro())\n"
      ],
      "metadata": {
        "colab": {
          "base_uri": "https://localhost:8080/"
        },
        "id": "ZzgNyKgUulPU",
        "outputId": "e117622f-2faf-42c3-a117-9ef358bc550a"
      },
      "execution_count": 3,
      "outputs": [
        {
          "output_type": "stream",
          "name": "stdout",
          "text": [
            "Área del círculo: 78.53975\n",
            "Perímetro del círculo: 31.4159\n",
            "Área del cuadrado: 16\n",
            "Perímetro del cuadrado: 16\n"
          ]
        }
      ]
    }
  ]
}